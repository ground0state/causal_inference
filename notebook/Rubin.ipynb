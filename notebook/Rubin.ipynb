{
 "cells": [
  {
   "cell_type": "markdown",
   "metadata": {},
   "source": [
    "# 因果推論まとめ"
   ]
  },
  {
   "cell_type": "markdown",
   "metadata": {},
   "source": [
    "参考：<https://qiita.com/guglilac/items/71d8c6537c516198fb6c>"
   ]
  },
  {
   "cell_type": "markdown",
   "metadata": {},
   "source": [
    "対照実験を考えます。被験者は$z=0$または$z=1$に割り付けられるものとします。ただし、この割付は実験者が操作できないものとします。  \n",
    "$z=0$の被験者の測定値を$y_0$、$z=1$の被験者の測定値を$y_1$とします。\n",
    "\n",
    "割付の違いによる効果が存在するかを確かめたいとします。つまり、割付の効果を測れるなんらかの指標を作成したいとしましょう。直観的には、$y_1$と$y_0$の差分がその指標になりそうです。\n",
    "\n",
    "しかし、多くの場合、測定値は割付以外の共変量$x$にも依存して決まります。つまり、割付$z$によって、共変量$x$に偏りが生じ、それに測定値が影響されることで、割付$z$以外の効果が取り込まれてしまいます。例として、「ある企業が行ったアンケートで、宣伝したいアプリのCMを見た人と見てない人では、CMを見ていない人の方がアプリユーザーの割合が大きい、という調査結果が出た～（中略）～単純にCMを見ていた人がアプリを使う率が低かったのは、CMが悪かったとかではなく、そもそもアプリを使う習慣のない高齢の方が多くCMを見ていただけだった」<https://qiita.com/guglilac/items/71d8c6537c516198fb6c>を考えてみますと、CMを見た／見ていないが$z$に相当し、年齢が$x$に相当します。\n",
    "\n",
    "このような状況で得られた$y_1$の期待値は次のような量になります。\n",
    "\n",
    "\\begin{align}\n",
    "\\int dxdy_1 y_1 p(y_1|x, z=1)p(x|z=1) = E[y_1|z=1]\n",
    "\\end{align}\n",
    "\n",
    "$y_0$も同様です。この式から、割付ごとの測定値の期待値の差分$E[y_1|z=1]-E[y_0|z=0]$には共変量の効果が含まれていることがわかります。  \n",
    "\n",
    "共変量の効果を含まない$y_1$の期待値は次のようになるべきです。\n",
    "\n",
    "\\begin{align}\n",
    "\\int dy_1 y_1 p(y_1) = E[y|z=1] = E[y_1]\n",
    "\\end{align}\n",
    "\n",
    "ここで$y$は$y\\equiv zy_1 - (1-z)y_0$で定義される量で、ある被験者の割付を知らない人から見た、被験者の測定値を表す確率変数になっています。これによって、割付$z$による効果を$E[y|z=1]-E[y|z=0]=E[y_1]-E[y_0]$にとすればよいとわかります。\n",
    "\n",
    "ところで、なぜRCTの場合は共変量の効果を避けられるのか見ておきましょう。  \n",
    "実験者が割当を操作し、RCTを実施したとします。ランダムに割付したので、割付後の分布は$z$に依存しません。したがって、$p(x|z)=p(x)$、$p(y_1|x, z=1)=p(y_1|x)$となります。\n",
    "\n",
    "\\begin{align}\n",
    "\\int dxdy_1 y_1 p(y_1|x, z=1)p(x|z=1) &= \\int dxdy_1 y_1 p(y_1|x)p(x) = E[y_1] \n",
    "\\end{align}\n",
    "\n",
    "見事に共変量の効果が無くなっていることがわかります。\n",
    "\n",
    "\n",
    "さて、$E[y_1]-E[y_0]$を求めたいのですが、一般に計算できるのは$E[y_1|z=1]-E[y_0|z=0]$です。どうすれば、$E[y_1]-E[y_0]$を計算できるでしょうか。実は、ある仮定を置くと、$E[y_1]-E[y_0]$を計算できるようになります。それがstrong ignorabilityです。\n",
    "\n",
    "\\begin{align}\n",
    "P(z|y, x) = P(z|x)\n",
    "\\end{align}\n",
    "\n",
    "また、傾向スコアと呼ばれる量を導入します。\n",
    "\n",
    "\\begin{align}\n",
    "e(x) = P(z=1|x)\n",
    "\\end{align}\n",
    "\n",
    "strong ignorabilityのもとで、観測データから次の推定量をつくると、これが$E[y_1]-E[y_0]$の一致推定量になっています。\n",
    "\n",
    "\\begin{align}\n",
    "\\mathrm{IPW} = \\frac{\\sum_{i=1}^n \\frac{z_i}{e_i}y_i}{\\sum_{i=1}^n \\frac{z_i}{e_i}} - \\frac{\\sum_{i=1}^n \\frac{1-z_i}{1-e_i}y_i}{\\sum_{i=1}^n \\frac{1-z_i}{1-e_i}}\n",
    "\\end{align}\n",
    "\n",
    "ここで、$y$は$y\\equiv zy_1 - (1-z)y_0$のことで、添字はデータのidを表しています。\n",
    "\n",
    "第一項が$E[y]$の一致推定量になっていることを確かめてみます。第一項を見てみると、分子および分母をnで割れば、それぞれが平均値の形をしていることがわかります。したがって$n\\rightarrow \\infty$で分子も分母も真の平均値に確率収束します。また、実は分母は1に収束するので、スルツキーの定理より、全体は分子の平均値を表す確率変数に分布収束します。以上より、分子および分母それぞれの期待値を計算すれば十分だとわかります。\n",
    "\n",
    "まず分母の期待値は次のように計算できます。\n",
    "\n",
    "\\begin{align}\n",
    "E[\\frac{z_i}{e_i}] &= \\int dx \\sum_{z=0}^1 p(x, z)\\frac{z}{e(x)} \\\\\n",
    "&= \\int dx p(x, z=1)\\frac{1}{e(x)} \\\\\n",
    "&= \\int dx p(x) \\\\\n",
    "&= 1\n",
    "\\end{align}\n",
    "\n",
    "分子の期待値ですが、$zy=zy_1$であることを用いて、次のように計算できます。\n",
    "\n",
    "\\begin{align}\n",
    "E[\\frac{z_i}{e_i}y_{1i}] &=\n",
    "\\int dx \\sum_{z=0}^1 p(x, y_1, z)\\frac{zy_1}{e(x)} \\\\\n",
    "&= \\int dxdy_1 p(x, y_1, z=1)\\frac{y_1}{e(x)} \\\\\n",
    "&= \\int dxdy_1 p(z=1|x, y_1)p(x, y)\\frac{y_1}{e(x)} \\\\\n",
    "&= \\int dxdy_1 p(z=1|x)p(x, y_1)\\frac{y_1}{e(x)} \\\\\n",
    "&= \\int dxdy_1 e(x)p(x, y_1)\\frac{y_1}{e(x)} \\\\\n",
    "&= \\int dxdy_1 y_1 p(x, y_1) \\\\\n",
    "&= \\int dy y_1 p(y_1) \\\\\n",
    "&= E[y_1]\n",
    "\\end{align}\n",
    "\n",
    "これで第一項が$E[y_1]$の一致推定量であることが示せました（多分）。第二項も同様に計算できます。\n",
    "\n",
    "実際のデータ分析では、IPWは次の手順で計算できます。\n",
    "\n",
    "1. 変数xとyを用いて割付zを予測するモデルを作成します（ロジスティック回帰など）。各データに対してP(z|y, x)を求めます。\n",
    "2. 変数xを用いて割付zを予測するモデルを作成します（ロジスティック回帰など）。各データに対してP(z|x)を求めます。\n",
    "3. 1と2で求めた確率がstrong ignorabilityを満たすことを確認します。\n",
    "4. 各データに対してe(x) = P(z=1|x)とします。\n",
    "5. 各データのz、y、eを用いてIPWを計算します。IPWがゼロから離れるほど因果効果があります。"
   ]
  },
  {
   "cell_type": "code",
   "execution_count": 94,
   "metadata": {},
   "outputs": [],
   "source": [
    "import pandas as pd\n",
    "import matplotlib.pyplot as plt"
   ]
  },
  {
   "cell_type": "code",
   "execution_count": 106,
   "metadata": {},
   "outputs": [],
   "source": [
    "import numpy as np\n",
    "from numpy.random import *\n",
    "\n",
    "class RegressionGenerator():\n",
    "    \"\"\"回帰問題用のデータセットを生成するクラス.\n",
    "\n",
    "    x_e = s_to_xe * s + coef_noize * epsilon\n",
    "    x_ne ~ N(mu,sigma^2) : iid\n",
    "    w = [1,2,3,1,2,3,1,2,3...]\n",
    "    features_n : x_e と x_neの個数合計\n",
    "    y_1 = w * [x_1, x_i] + c + coef_noize * epsilon\n",
    "    y_0 = w * [x_1, x_i] +     coef_noize * epsilon\n",
    "    \"\"\"\n",
    "\n",
    "    def __init__(self,  s_to_x_e, c, features_n=2, seed=0,  p=0.5, mu=1, sigma2=1, coef_noize=1):\n",
    "        \"\"\"Initialize genrator instance.\"\"\"\n",
    "        w = np.array(([1, 2, 3] * (features_n // 3 + 1))[:features_n + 1])\n",
    "        self.seed = seed\n",
    "        self.s_to_x_e = s_to_x_e\n",
    "        self.w = w\n",
    "        self.mu = mu\n",
    "        self.p = p\n",
    "        self.sigma2 = sigma2\n",
    "        self.coef_noize = coef_noize\n",
    "        self.c = c\n",
    "        self.features_n = features_n\n",
    "\n",
    "    def run(self, num):\n",
    "        \"\"\"Generate raw dataset.\"\"\"\n",
    "        seed(self.seed)\n",
    "        s1_num = int(self.p * num)\n",
    "        s = [1 for _ in range(s1_num)] + [0 for _ in range(num - s1_num)]\n",
    "        x_e = [self.s_to_x_e * e + self.coef_noize * randn() for e in s]\n",
    "        x_ne = np.array([[normal(self.mu, self.sigma2) for i in range(self.features_n - 1)]\n",
    "                         for _ in range(num)])\n",
    "        y = []\n",
    "        for i in range(len(s)):\n",
    "            x = np.concatenate([np.array([1, x_e[i]]), x_ne[i]])\n",
    "            y.append(np.dot(self.w, x) + s[i] *\n",
    "                     self.c + self.coef_noize * randn())\n",
    "\n",
    "        df = pd.DataFrame()\n",
    "        df[\"x_e\"] = x_e\n",
    "        for i in range(self.features_n - 1):\n",
    "            df[f\"x_ne{i+1}\"] = x_ne[:, i]\n",
    "        df[\"s\"] = s\n",
    "        df[\"y\"] = y\n",
    "        df = df.reindex(np.random.RandomState(self.seed).permutation(\n",
    "            df.index)).reset_index(drop=True)\n",
    "        return df"
   ]
  },
  {
   "cell_type": "code",
   "execution_count": 107,
   "metadata": {},
   "outputs": [],
   "source": [
    "def get_md(s, y):\n",
    "    \"\"\"MDを返す.\n",
    "\n",
    "    input s(numpy) y(numpy) yはラベル1となる確率が各要素\n",
    "    return md\n",
    "    \"\"\"\n",
    "    ys = y[s == 1]\n",
    "    yns = y[s == 0]\n",
    "    md = ys.mean() - yns.mean()\n",
    "    return md\n",
    "\n",
    "\n",
    "def get_ipw(y, s, e):\n",
    "    \"\"\"IPW推定量を計算する.\"\"\"\n",
    "    Ey1 = (s * y / e).sum() / (s / e).sum()\n",
    "    Ey0 = ((1 - s) * y / (1 - e)).sum() / ((1 - s) / (1 - e)).sum()\n",
    "    return Ey1 - Ey0\n",
    "\n",
    "\n",
    "def get_dr(y, s, e, g0, g1):\n",
    "    \"\"\"DR推定量を計算する.\"\"\"\n",
    "    Ey1 = (s * y / e + (1 - s / e) * g1).mean()\n",
    "    Ey0 = ((1 - s) * y / (1 - e) + (1 - (1 - s) / (1 - e)) * g0).mean()\n",
    "    return Ey1 - Ey0"
   ]
  },
  {
   "cell_type": "markdown",
   "metadata": {},
   "source": [
    "データ生成"
   ]
  },
  {
   "cell_type": "code",
   "execution_count": 227,
   "metadata": {},
   "outputs": [],
   "source": [
    "rg = RegressionGenerator(s_to_x_e=3, c=10, features_n=2, seed=0,  p=0.5, mu=1, sigma2=1, coef_noize=1)\n",
    "df = rg.run(10000)"
   ]
  },
  {
   "cell_type": "code",
   "execution_count": 228,
   "metadata": {},
   "outputs": [
    {
     "data": {
      "text/html": [
       "<div>\n",
       "<style scoped>\n",
       "    .dataframe tbody tr th:only-of-type {\n",
       "        vertical-align: middle;\n",
       "    }\n",
       "\n",
       "    .dataframe tbody tr th {\n",
       "        vertical-align: top;\n",
       "    }\n",
       "\n",
       "    .dataframe thead th {\n",
       "        text-align: right;\n",
       "    }\n",
       "</style>\n",
       "<table border=\"1\" class=\"dataframe\">\n",
       "  <thead>\n",
       "    <tr style=\"text-align: right;\">\n",
       "      <th></th>\n",
       "      <th>x_e</th>\n",
       "      <th>x_ne1</th>\n",
       "      <th>s</th>\n",
       "      <th>y</th>\n",
       "    </tr>\n",
       "  </thead>\n",
       "  <tbody>\n",
       "    <tr>\n",
       "      <td>0</td>\n",
       "      <td>-1.239526</td>\n",
       "      <td>1.262634</td>\n",
       "      <td>0</td>\n",
       "      <td>4.494560</td>\n",
       "    </tr>\n",
       "    <tr>\n",
       "      <td>1</td>\n",
       "      <td>5.594425</td>\n",
       "      <td>0.311677</td>\n",
       "      <td>1</td>\n",
       "      <td>22.880785</td>\n",
       "    </tr>\n",
       "    <tr>\n",
       "      <td>2</td>\n",
       "      <td>2.403083</td>\n",
       "      <td>2.437977</td>\n",
       "      <td>1</td>\n",
       "      <td>22.995519</td>\n",
       "    </tr>\n",
       "    <tr>\n",
       "      <td>3</td>\n",
       "      <td>-1.281649</td>\n",
       "      <td>2.199425</td>\n",
       "      <td>0</td>\n",
       "      <td>5.096866</td>\n",
       "    </tr>\n",
       "    <tr>\n",
       "      <td>4</td>\n",
       "      <td>3.862148</td>\n",
       "      <td>0.437922</td>\n",
       "      <td>1</td>\n",
       "      <td>19.369594</td>\n",
       "    </tr>\n",
       "  </tbody>\n",
       "</table>\n",
       "</div>"
      ],
      "text/plain": [
       "        x_e     x_ne1  s          y\n",
       "0 -1.239526  1.262634  0   4.494560\n",
       "1  5.594425  0.311677  1  22.880785\n",
       "2  2.403083  2.437977  1  22.995519\n",
       "3 -1.281649  2.199425  0   5.096866\n",
       "4  3.862148  0.437922  1  19.369594"
      ]
     },
     "execution_count": 228,
     "metadata": {},
     "output_type": "execute_result"
    }
   ],
   "source": [
    "df.head()"
   ]
  },
  {
   "cell_type": "markdown",
   "metadata": {},
   "source": [
    "1. ロジスティック回帰"
   ]
  },
  {
   "cell_type": "code",
   "execution_count": 229,
   "metadata": {},
   "outputs": [],
   "source": [
    "from sklearn.linear_model import LogisticRegression\n",
    "\n",
    "X = df[[\"x_e\", \"x_ne1\"]].values\n",
    "y = df['s'].values\n",
    "\n",
    "clf = LogisticRegression(random_state=0, solver='lbfgs', multi_class='multinomial').fit(X, y)\n",
    "pred = clf.predict_proba(X)"
   ]
  },
  {
   "cell_type": "code",
   "execution_count": 230,
   "metadata": {},
   "outputs": [
    {
     "data": {
      "text/plain": [
       "0.9347"
      ]
     },
     "execution_count": 230,
     "metadata": {},
     "output_type": "execute_result"
    }
   ],
   "source": [
    "clf.score(X, y)"
   ]
  },
  {
   "cell_type": "markdown",
   "metadata": {},
   "source": [
    "2. yも含めてロジスティック回帰"
   ]
  },
  {
   "cell_type": "code",
   "execution_count": 231,
   "metadata": {},
   "outputs": [],
   "source": [
    "X2 = df[[\"x_e\", \"x_ne1\", \"y\"]].values\n",
    "y = df['s'].values\n",
    "\n",
    "clf2 = LogisticRegression(random_state=0, solver='lbfgs', multi_class='multinomial').fit(X2, y)\n",
    "pred2 = clf2.predict_proba(X2)"
   ]
  },
  {
   "cell_type": "code",
   "execution_count": 232,
   "metadata": {},
   "outputs": [
    {
     "data": {
      "text/plain": [
       "1.0"
      ]
     },
     "execution_count": 232,
     "metadata": {},
     "output_type": "execute_result"
    }
   ],
   "source": [
    "clf2.score(X2, y)"
   ]
  },
  {
   "cell_type": "markdown",
   "metadata": {},
   "source": [
    "3. 分布を比較"
   ]
  },
  {
   "cell_type": "code",
   "execution_count": 233,
   "metadata": {},
   "outputs": [
    {
     "data": {
      "image/png": "[encoded data removed]",
      "text/plain": [
       "<Figure size 432x288 with 1 Axes>"
      ]
     },
     "metadata": {
      "needs_background": "light"
     },
     "output_type": "display_data"
    }
   ],
   "source": [
    "plt.hist(pred[:, 0], bins=20)\n",
    "plt.hist(pred2[:, 0], bins=20, alpha=0.5)\n",
    "plt.show()"
   ]
  },
  {
   "cell_type": "markdown",
   "metadata": {},
   "source": [
    "。。。まあ、strong ignorabilityは成り立っているとしましょう。"
   ]
  },
  {
   "cell_type": "markdown",
   "metadata": {},
   "source": [
    "4. 傾向スコアを計算"
   ]
  },
  {
   "cell_type": "code",
   "execution_count": 237,
   "metadata": {},
   "outputs": [],
   "source": [
    "e = pred[:, 1]"
   ]
  },
  {
   "cell_type": "markdown",
   "metadata": {},
   "source": [
    "5. 統計量を計算"
   ]
  },
  {
   "cell_type": "code",
   "execution_count": 238,
   "metadata": {},
   "outputs": [
    {
     "data": {
      "text/plain": [
       "16.000751971113736"
      ]
     },
     "execution_count": 238,
     "metadata": {},
     "output_type": "execute_result"
    }
   ],
   "source": [
    "get_md(df['s'], df['y'])"
   ]
  },
  {
   "cell_type": "code",
   "execution_count": 239,
   "metadata": {},
   "outputs": [
    {
     "data": {
      "text/plain": [
       "12.199435455729475"
      ]
     },
     "execution_count": 239,
     "metadata": {},
     "output_type": "execute_result"
    }
   ],
   "source": [
    "get_ipw(df['y'].values, df['s'].values, e)"
   ]
  },
  {
   "cell_type": "markdown",
   "metadata": {},
   "source": [
    "DR推定量も計算してみる。"
   ]
  },
  {
   "cell_type": "code",
   "execution_count": 241,
   "metadata": {},
   "outputs": [],
   "source": [
    "from sklearn.linear_model import LinearRegression\n",
    "\n",
    "X3_1 = df[df[\"s\"]==1][[\"x_e\", \"x_ne1\"]].values\n",
    "y3_1 = df[df[\"s\"]==1]['y'].values\n",
    "\n",
    "clf3_1 = LinearRegression().fit(X3_1, y3_1)\n",
    "pred3_1 = clf3_1.predict(X3_1)\n",
    "\n",
    "\n",
    "X3_2 = df[df[\"s\"]==0][[\"x_e\", \"x_ne1\"]].values\n",
    "y3_2 = df[df[\"s\"]==0]['y'].values\n",
    "\n",
    "clf3_2 = LinearRegression().fit(X3_2, y3_2)\n",
    "pred3_2 = clf3_2.predict(X3_2)\n",
    "\n",
    "X3 = df[[\"x_e\", \"x_ne1\"]].values\n",
    "g1 = clf3_1.predict(X3)\n",
    "g0 = clf3_2.predict(X3)"
   ]
  },
  {
   "cell_type": "code",
   "execution_count": 243,
   "metadata": {},
   "outputs": [
    {
     "data": {
      "text/plain": [
       "10.02687150502862"
      ]
     },
     "execution_count": 243,
     "metadata": {},
     "output_type": "execute_result"
    }
   ],
   "source": [
    "get_dr(df['y'].values, df['s'].values, e, g0, g1)"
   ]
  }
 ],
 "metadata": {
  "kernelspec": {
   "display_name": "Python 3",
   "language": "python",
   "name": "python3"
  },
  "language_info": {
   "codemirror_mode": {
    "name": "ipython",
    "version": 3
   },
   "file_extension": ".py",
   "mimetype": "text/x-python",
   "name": "python",
   "nbconvert_exporter": "python",
   "pygments_lexer": "ipython3",
   "version": "3.6.9"
  }
 },
 "nbformat": 4,
 "nbformat_minor": 2
}
